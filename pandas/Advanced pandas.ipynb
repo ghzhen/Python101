{
 "cells": [
  {
   "cell_type": "code",
   "execution_count": 4,
   "metadata": {
    "collapsed": true
   },
   "outputs": [],
   "source": [
    "import pandas as pd\n",
    "import numpy as np\n",
    "import matplotlib.pyplot as plt\n",
    "% matplotlib inline"
   ]
  },
  {
   "cell_type": "code",
   "execution_count": 11,
   "metadata": {
    "collapsed": false
   },
   "outputs": [],
   "source": [
    "from pandas_datareader import data, wb\n",
    "import pandas_datareader as pdr"
   ]
  },
  {
   "cell_type": "code",
   "execution_count": 25,
   "metadata": {
    "collapsed": false
   },
   "outputs": [],
   "source": [
    "start = pd.to_datetime('2017-01-01')\n",
    "end = pd.to_datetime('2017-07-01')\n",
    "df = pdr.get_data_yahoo('AAPL', start = start, end = end)"
   ]
  },
  {
   "cell_type": "code",
   "execution_count": 27,
   "metadata": {
    "collapsed": false
   },
   "outputs": [
    {
     "data": {
      "text/html": [
       "<div>\n",
       "<table border=\"1\" class=\"dataframe\">\n",
       "  <thead>\n",
       "    <tr style=\"text-align: right;\">\n",
       "      <th></th>\n",
       "      <th>Open</th>\n",
       "      <th>High</th>\n",
       "      <th>Low</th>\n",
       "      <th>Close</th>\n",
       "      <th>Adj Close</th>\n",
       "      <th>Volume</th>\n",
       "      <th>Change</th>\n",
       "    </tr>\n",
       "    <tr>\n",
       "      <th>Date</th>\n",
       "      <th></th>\n",
       "      <th></th>\n",
       "      <th></th>\n",
       "      <th></th>\n",
       "      <th></th>\n",
       "      <th></th>\n",
       "      <th></th>\n",
       "    </tr>\n",
       "  </thead>\n",
       "  <tbody>\n",
       "    <tr>\n",
       "      <th>2017-01-03</th>\n",
       "      <td>115.800003</td>\n",
       "      <td>116.330002</td>\n",
       "      <td>114.760002</td>\n",
       "      <td>116.150002</td>\n",
       "      <td>115.173210</td>\n",
       "      <td>28781900</td>\n",
       "      <td>0.349999</td>\n",
       "    </tr>\n",
       "    <tr>\n",
       "      <th>2017-01-04</th>\n",
       "      <td>115.849998</td>\n",
       "      <td>116.510002</td>\n",
       "      <td>115.750000</td>\n",
       "      <td>116.019997</td>\n",
       "      <td>115.044304</td>\n",
       "      <td>21118100</td>\n",
       "      <td>0.169999</td>\n",
       "    </tr>\n",
       "    <tr>\n",
       "      <th>2017-01-05</th>\n",
       "      <td>115.919998</td>\n",
       "      <td>116.860001</td>\n",
       "      <td>115.809998</td>\n",
       "      <td>116.610001</td>\n",
       "      <td>115.629341</td>\n",
       "      <td>22193600</td>\n",
       "      <td>0.690003</td>\n",
       "    </tr>\n",
       "    <tr>\n",
       "      <th>2017-01-06</th>\n",
       "      <td>116.779999</td>\n",
       "      <td>118.160004</td>\n",
       "      <td>116.470001</td>\n",
       "      <td>117.910004</td>\n",
       "      <td>116.918411</td>\n",
       "      <td>31751900</td>\n",
       "      <td>1.130005</td>\n",
       "    </tr>\n",
       "    <tr>\n",
       "      <th>2017-01-09</th>\n",
       "      <td>117.949997</td>\n",
       "      <td>119.430000</td>\n",
       "      <td>117.940002</td>\n",
       "      <td>118.989998</td>\n",
       "      <td>117.989319</td>\n",
       "      <td>33561900</td>\n",
       "      <td>1.040001</td>\n",
       "    </tr>\n",
       "  </tbody>\n",
       "</table>\n",
       "</div>"
      ],
      "text/plain": [
       "                  Open        High         Low       Close   Adj Close  \\\n",
       "Date                                                                     \n",
       "2017-01-03  115.800003  116.330002  114.760002  116.150002  115.173210   \n",
       "2017-01-04  115.849998  116.510002  115.750000  116.019997  115.044304   \n",
       "2017-01-05  115.919998  116.860001  115.809998  116.610001  115.629341   \n",
       "2017-01-06  116.779999  118.160004  116.470001  117.910004  116.918411   \n",
       "2017-01-09  117.949997  119.430000  117.940002  118.989998  117.989319   \n",
       "\n",
       "              Volume    Change  \n",
       "Date                            \n",
       "2017-01-03  28781900  0.349999  \n",
       "2017-01-04  21118100  0.169999  \n",
       "2017-01-05  22193600  0.690003  \n",
       "2017-01-06  31751900  1.130005  \n",
       "2017-01-09  33561900  1.040001  "
      ]
     },
     "execution_count": 27,
     "metadata": {},
     "output_type": "execute_result"
    }
   ],
   "source": [
    "df['Change'] = df.Close - df.Open\n",
    "df.head()"
   ]
  },
  {
   "cell_type": "code",
   "execution_count": 54,
   "metadata": {
    "collapsed": false
   },
   "outputs": [
    {
     "data": {
      "text/html": [
       "<div>\n",
       "<table border=\"1\" class=\"dataframe\">\n",
       "  <thead>\n",
       "    <tr style=\"text-align: right;\">\n",
       "      <th></th>\n",
       "      <th>Open</th>\n",
       "      <th>High</th>\n",
       "      <th>Low</th>\n",
       "      <th>Close</th>\n",
       "      <th>Adj Close</th>\n",
       "      <th>Volume</th>\n",
       "      <th>Change</th>\n",
       "      <th>Trend</th>\n",
       "      <th>Activity</th>\n",
       "    </tr>\n",
       "    <tr>\n",
       "      <th>Date</th>\n",
       "      <th></th>\n",
       "      <th></th>\n",
       "      <th></th>\n",
       "      <th></th>\n",
       "      <th></th>\n",
       "      <th></th>\n",
       "      <th></th>\n",
       "      <th></th>\n",
       "      <th></th>\n",
       "    </tr>\n",
       "  </thead>\n",
       "  <tbody>\n",
       "    <tr>\n",
       "      <th>2017-01-03</th>\n",
       "      <td>115.800003</td>\n",
       "      <td>116.330002</td>\n",
       "      <td>114.760002</td>\n",
       "      <td>116.150002</td>\n",
       "      <td>115.173210</td>\n",
       "      <td>28781900</td>\n",
       "      <td>0.349999</td>\n",
       "      <td>Up</td>\n",
       "      <td>high</td>\n",
       "    </tr>\n",
       "    <tr>\n",
       "      <th>2017-01-04</th>\n",
       "      <td>115.849998</td>\n",
       "      <td>116.510002</td>\n",
       "      <td>115.750000</td>\n",
       "      <td>116.019997</td>\n",
       "      <td>115.044304</td>\n",
       "      <td>21118100</td>\n",
       "      <td>0.169999</td>\n",
       "      <td>Up</td>\n",
       "      <td>low</td>\n",
       "    </tr>\n",
       "    <tr>\n",
       "      <th>2017-01-05</th>\n",
       "      <td>115.919998</td>\n",
       "      <td>116.860001</td>\n",
       "      <td>115.809998</td>\n",
       "      <td>116.610001</td>\n",
       "      <td>115.629341</td>\n",
       "      <td>22193600</td>\n",
       "      <td>0.690003</td>\n",
       "      <td>Up</td>\n",
       "      <td>low</td>\n",
       "    </tr>\n",
       "    <tr>\n",
       "      <th>2017-01-06</th>\n",
       "      <td>116.779999</td>\n",
       "      <td>118.160004</td>\n",
       "      <td>116.470001</td>\n",
       "      <td>117.910004</td>\n",
       "      <td>116.918411</td>\n",
       "      <td>31751900</td>\n",
       "      <td>1.130005</td>\n",
       "      <td>Up</td>\n",
       "      <td>high</td>\n",
       "    </tr>\n",
       "    <tr>\n",
       "      <th>2017-01-09</th>\n",
       "      <td>117.949997</td>\n",
       "      <td>119.430000</td>\n",
       "      <td>117.940002</td>\n",
       "      <td>118.989998</td>\n",
       "      <td>117.989319</td>\n",
       "      <td>33561900</td>\n",
       "      <td>1.040001</td>\n",
       "      <td>Up</td>\n",
       "      <td>high</td>\n",
       "    </tr>\n",
       "  </tbody>\n",
       "</table>\n",
       "</div>"
      ],
      "text/plain": [
       "                  Open        High         Low       Close   Adj Close  \\\n",
       "Date                                                                     \n",
       "2017-01-03  115.800003  116.330002  114.760002  116.150002  115.173210   \n",
       "2017-01-04  115.849998  116.510002  115.750000  116.019997  115.044304   \n",
       "2017-01-05  115.919998  116.860001  115.809998  116.610001  115.629341   \n",
       "2017-01-06  116.779999  118.160004  116.470001  117.910004  116.918411   \n",
       "2017-01-09  117.949997  119.430000  117.940002  118.989998  117.989319   \n",
       "\n",
       "              Volume    Change Trend Activity  \n",
       "Date                                           \n",
       "2017-01-03  28781900  0.349999    Up     high  \n",
       "2017-01-04  21118100  0.169999    Up      low  \n",
       "2017-01-05  22193600  0.690003    Up      low  \n",
       "2017-01-06  31751900  1.130005    Up     high  \n",
       "2017-01-09  33561900  1.040001    Up     high  "
      ]
     },
     "execution_count": 54,
     "metadata": {},
     "output_type": "execute_result"
    }
   ],
   "source": [
    "changemax = df.Change.max()\n",
    "changemin = df.Change.min()\n",
    "bins = [changemin-0.001, 0, changemax+0.001]\n",
    "labels = ['Down', 'Up']\n",
    "df['Trend'] = pd.cut(df.Change, bins=bins, labels = labels).astype('category')\n",
    "df['Activity'] = pd.cut(df.Volume, bins=[df.Volume.min()-1,df.Volume.mean(),df.Volume.max()],\n",
    "                        labels = ['low','high']).astype('category')\n",
    "df.head()"
   ]
  },
  {
   "cell_type": "markdown",
   "metadata": {},
   "source": [
    "### advanced groupby"
   ]
  },
  {
   "cell_type": "code",
   "execution_count": 56,
   "metadata": {
    "collapsed": false
   },
   "outputs": [
    {
     "data": {
      "text/html": [
       "<div>\n",
       "<table border=\"1\" class=\"dataframe\">\n",
       "  <thead>\n",
       "    <tr style=\"text-align: right;\">\n",
       "      <th></th>\n",
       "      <th></th>\n",
       "      <th>Change</th>\n",
       "      <th>Close</th>\n",
       "    </tr>\n",
       "    <tr>\n",
       "      <th>Trend</th>\n",
       "      <th>Activity</th>\n",
       "      <th></th>\n",
       "      <th></th>\n",
       "    </tr>\n",
       "  </thead>\n",
       "  <tbody>\n",
       "    <tr>\n",
       "      <th rowspan=\"2\" valign=\"top\">Down</th>\n",
       "      <th>low</th>\n",
       "      <td>-0.463334</td>\n",
       "      <td>142.936888</td>\n",
       "    </tr>\n",
       "    <tr>\n",
       "      <th>high</th>\n",
       "      <td>-1.472145</td>\n",
       "      <td>142.203571</td>\n",
       "    </tr>\n",
       "    <tr>\n",
       "      <th rowspan=\"2\" valign=\"top\">Up</th>\n",
       "      <th>low</th>\n",
       "      <td>0.605897</td>\n",
       "      <td>137.617948</td>\n",
       "    </tr>\n",
       "    <tr>\n",
       "      <th>high</th>\n",
       "      <td>1.368518</td>\n",
       "      <td>136.748888</td>\n",
       "    </tr>\n",
       "  </tbody>\n",
       "</table>\n",
       "</div>"
      ],
      "text/plain": [
       "                  Change       Close\n",
       "Trend Activity                      \n",
       "Down  low      -0.463334  142.936888\n",
       "      high     -1.472145  142.203571\n",
       "Up    low       0.605897  137.617948\n",
       "      high      1.368518  136.748888"
      ]
     },
     "execution_count": 56,
     "metadata": {},
     "output_type": "execute_result"
    }
   ],
   "source": [
    "df.groupby(['Trend','Activity'])[['Change','Close']].mean()"
   ]
  },
  {
   "cell_type": "code",
   "execution_count": 57,
   "metadata": {
    "collapsed": false
   },
   "outputs": [
    {
     "data": {
      "text/html": [
       "<div>\n",
       "<table border=\"1\" class=\"dataframe\">\n",
       "  <thead>\n",
       "    <tr>\n",
       "      <th></th>\n",
       "      <th></th>\n",
       "      <th colspan=\"2\" halign=\"left\">Close</th>\n",
       "      <th colspan=\"2\" halign=\"left\">Change</th>\n",
       "    </tr>\n",
       "    <tr>\n",
       "      <th></th>\n",
       "      <th></th>\n",
       "      <th>mean</th>\n",
       "      <th>std</th>\n",
       "      <th>mean</th>\n",
       "      <th>std</th>\n",
       "    </tr>\n",
       "    <tr>\n",
       "      <th>Trend</th>\n",
       "      <th>Activity</th>\n",
       "      <th></th>\n",
       "      <th></th>\n",
       "      <th></th>\n",
       "      <th></th>\n",
       "    </tr>\n",
       "  </thead>\n",
       "  <tbody>\n",
       "    <tr>\n",
       "      <th rowspan=\"2\" valign=\"top\">Down</th>\n",
       "      <th>low</th>\n",
       "      <td>142.936888</td>\n",
       "      <td>8.671730</td>\n",
       "      <td>-0.463334</td>\n",
       "      <td>0.434568</td>\n",
       "    </tr>\n",
       "    <tr>\n",
       "      <th>high</th>\n",
       "      <td>142.203571</td>\n",
       "      <td>7.500006</td>\n",
       "      <td>-1.472145</td>\n",
       "      <td>1.682998</td>\n",
       "    </tr>\n",
       "    <tr>\n",
       "      <th rowspan=\"2\" valign=\"top\">Up</th>\n",
       "      <th>low</th>\n",
       "      <td>137.617948</td>\n",
       "      <td>11.529426</td>\n",
       "      <td>0.605897</td>\n",
       "      <td>0.464621</td>\n",
       "    </tr>\n",
       "    <tr>\n",
       "      <th>high</th>\n",
       "      <td>136.748888</td>\n",
       "      <td>13.547194</td>\n",
       "      <td>1.368518</td>\n",
       "      <td>0.861691</td>\n",
       "    </tr>\n",
       "  </tbody>\n",
       "</table>\n",
       "</div>"
      ],
      "text/plain": [
       "                     Close               Change          \n",
       "                      mean        std      mean       std\n",
       "Trend Activity                                           \n",
       "Down  low       142.936888   8.671730 -0.463334  0.434568\n",
       "      high      142.203571   7.500006 -1.472145  1.682998\n",
       "Up    low       137.617948  11.529426  0.605897  0.464621\n",
       "      high      136.748888  13.547194  1.368518  0.861691"
      ]
     },
     "execution_count": 57,
     "metadata": {},
     "output_type": "execute_result"
    }
   ],
   "source": [
    "df.groupby(['Trend','Activity']).agg({'Change':[np.mean, np.std],'Close':[np.mean, np.std]})"
   ]
  },
  {
   "cell_type": "markdown",
   "metadata": {},
   "source": [
    "#### apply function to groupby iterator and return original dataframe format"
   ]
  },
  {
   "cell_type": "code",
   "execution_count": 58,
   "metadata": {
    "collapsed": true
   },
   "outputs": [],
   "source": [
    "def averageChange(dataframe):\n",
    "    dataframe['averageChange'] = dataframe.Change.mean()\n",
    "    return dataframe"
   ]
  },
  {
   "cell_type": "code",
   "execution_count": 59,
   "metadata": {
    "collapsed": true
   },
   "outputs": [],
   "source": [
    "newdf = df.groupby('Trend').apply(averageChange)"
   ]
  },
  {
   "cell_type": "code",
   "execution_count": 62,
   "metadata": {
    "collapsed": false
   },
   "outputs": [
    {
     "data": {
      "text/html": [
       "<div>\n",
       "<table border=\"1\" class=\"dataframe\">\n",
       "  <thead>\n",
       "    <tr style=\"text-align: right;\">\n",
       "      <th></th>\n",
       "      <th>Open</th>\n",
       "      <th>High</th>\n",
       "      <th>Low</th>\n",
       "      <th>Close</th>\n",
       "      <th>Adj Close</th>\n",
       "      <th>Volume</th>\n",
       "      <th>Change</th>\n",
       "      <th>Trend</th>\n",
       "      <th>Activity</th>\n",
       "      <th>averageChange</th>\n",
       "    </tr>\n",
       "    <tr>\n",
       "      <th>Date</th>\n",
       "      <th></th>\n",
       "      <th></th>\n",
       "      <th></th>\n",
       "      <th></th>\n",
       "      <th></th>\n",
       "      <th></th>\n",
       "      <th></th>\n",
       "      <th></th>\n",
       "      <th></th>\n",
       "      <th></th>\n",
       "    </tr>\n",
       "  </thead>\n",
       "  <tbody>\n",
       "    <tr>\n",
       "      <th>2017-01-03</th>\n",
       "      <td>115.800003</td>\n",
       "      <td>116.330002</td>\n",
       "      <td>114.760002</td>\n",
       "      <td>116.150002</td>\n",
       "      <td>115.173210</td>\n",
       "      <td>28781900</td>\n",
       "      <td>0.349999</td>\n",
       "      <td>Up</td>\n",
       "      <td>high</td>\n",
       "      <td>0.917878</td>\n",
       "    </tr>\n",
       "    <tr>\n",
       "      <th>2017-01-04</th>\n",
       "      <td>115.849998</td>\n",
       "      <td>116.510002</td>\n",
       "      <td>115.750000</td>\n",
       "      <td>116.019997</td>\n",
       "      <td>115.044304</td>\n",
       "      <td>21118100</td>\n",
       "      <td>0.169999</td>\n",
       "      <td>Up</td>\n",
       "      <td>low</td>\n",
       "      <td>0.917878</td>\n",
       "    </tr>\n",
       "    <tr>\n",
       "      <th>2017-01-05</th>\n",
       "      <td>115.919998</td>\n",
       "      <td>116.860001</td>\n",
       "      <td>115.809998</td>\n",
       "      <td>116.610001</td>\n",
       "      <td>115.629341</td>\n",
       "      <td>22193600</td>\n",
       "      <td>0.690003</td>\n",
       "      <td>Up</td>\n",
       "      <td>low</td>\n",
       "      <td>0.917878</td>\n",
       "    </tr>\n",
       "    <tr>\n",
       "      <th>2017-01-06</th>\n",
       "      <td>116.779999</td>\n",
       "      <td>118.160004</td>\n",
       "      <td>116.470001</td>\n",
       "      <td>117.910004</td>\n",
       "      <td>116.918411</td>\n",
       "      <td>31751900</td>\n",
       "      <td>1.130005</td>\n",
       "      <td>Up</td>\n",
       "      <td>high</td>\n",
       "      <td>0.917878</td>\n",
       "    </tr>\n",
       "    <tr>\n",
       "      <th>2017-01-09</th>\n",
       "      <td>117.949997</td>\n",
       "      <td>119.430000</td>\n",
       "      <td>117.940002</td>\n",
       "      <td>118.989998</td>\n",
       "      <td>117.989319</td>\n",
       "      <td>33561900</td>\n",
       "      <td>1.040001</td>\n",
       "      <td>Up</td>\n",
       "      <td>high</td>\n",
       "      <td>0.917878</td>\n",
       "    </tr>\n",
       "  </tbody>\n",
       "</table>\n",
       "</div>"
      ],
      "text/plain": [
       "                  Open        High         Low       Close   Adj Close  \\\n",
       "Date                                                                     \n",
       "2017-01-03  115.800003  116.330002  114.760002  116.150002  115.173210   \n",
       "2017-01-04  115.849998  116.510002  115.750000  116.019997  115.044304   \n",
       "2017-01-05  115.919998  116.860001  115.809998  116.610001  115.629341   \n",
       "2017-01-06  116.779999  118.160004  116.470001  117.910004  116.918411   \n",
       "2017-01-09  117.949997  119.430000  117.940002  118.989998  117.989319   \n",
       "\n",
       "              Volume    Change Trend Activity  averageChange  \n",
       "Date                                                          \n",
       "2017-01-03  28781900  0.349999    Up     high       0.917878  \n",
       "2017-01-04  21118100  0.169999    Up      low       0.917878  \n",
       "2017-01-05  22193600  0.690003    Up      low       0.917878  \n",
       "2017-01-06  31751900  1.130005    Up     high       0.917878  \n",
       "2017-01-09  33561900  1.040001    Up     high       0.917878  "
      ]
     },
     "execution_count": 62,
     "metadata": {},
     "output_type": "execute_result"
    }
   ],
   "source": [
    "newdf.head()"
   ]
  },
  {
   "cell_type": "markdown",
   "metadata": {},
   "source": [
    "#### apply function to groupby iterator and return grouped dataframe"
   ]
  },
  {
   "cell_type": "code",
   "execution_count": 67,
   "metadata": {
    "collapsed": true
   },
   "outputs": [],
   "source": [
    "def ChangeRank(dataframe, col):\n",
    "    dataframe.sort_values(by=col, ascending=False, inplace=True)\n",
    "    dataframe[col + 'Rank'] = np.arange(len(dataframe))+1\n",
    "    return dataframe"
   ]
  },
  {
   "cell_type": "code",
   "execution_count": 68,
   "metadata": {
    "collapsed": false
   },
   "outputs": [],
   "source": [
    "dfranked = df.groupby(['Trend','Activity']).apply(lambda x: ChangeRank(x,'Change'))"
   ]
  },
  {
   "cell_type": "code",
   "execution_count": 71,
   "metadata": {
    "collapsed": false
   },
   "outputs": [
    {
     "data": {
      "text/html": [
       "<div>\n",
       "<table border=\"1\" class=\"dataframe\">\n",
       "  <thead>\n",
       "    <tr style=\"text-align: right;\">\n",
       "      <th></th>\n",
       "      <th></th>\n",
       "      <th></th>\n",
       "      <th>Open</th>\n",
       "      <th>High</th>\n",
       "      <th>Low</th>\n",
       "      <th>Close</th>\n",
       "      <th>Adj Close</th>\n",
       "      <th>Volume</th>\n",
       "      <th>Change</th>\n",
       "      <th>Trend</th>\n",
       "      <th>Activity</th>\n",
       "      <th>ChangeRank</th>\n",
       "    </tr>\n",
       "    <tr>\n",
       "      <th>Trend</th>\n",
       "      <th>Activity</th>\n",
       "      <th>Date</th>\n",
       "      <th></th>\n",
       "      <th></th>\n",
       "      <th></th>\n",
       "      <th></th>\n",
       "      <th></th>\n",
       "      <th></th>\n",
       "      <th></th>\n",
       "      <th></th>\n",
       "      <th></th>\n",
       "      <th></th>\n",
       "    </tr>\n",
       "  </thead>\n",
       "  <tbody>\n",
       "    <tr>\n",
       "      <th rowspan=\"2\" valign=\"top\">Down</th>\n",
       "      <th>low</th>\n",
       "      <th>2017-05-22</th>\n",
       "      <td>154.000000</td>\n",
       "      <td>154.580002</td>\n",
       "      <td>152.910004</td>\n",
       "      <td>153.990005</td>\n",
       "      <td>153.990005</td>\n",
       "      <td>22966400</td>\n",
       "      <td>-0.009995</td>\n",
       "      <td>Down</td>\n",
       "      <td>low</td>\n",
       "      <td>1</td>\n",
       "    </tr>\n",
       "    <tr>\n",
       "      <th>high</th>\n",
       "      <th>2017-02-15</th>\n",
       "      <td>135.520004</td>\n",
       "      <td>136.270004</td>\n",
       "      <td>134.619995</td>\n",
       "      <td>135.509995</td>\n",
       "      <td>134.952957</td>\n",
       "      <td>35623100</td>\n",
       "      <td>-0.010009</td>\n",
       "      <td>Down</td>\n",
       "      <td>high</td>\n",
       "      <td>1</td>\n",
       "    </tr>\n",
       "    <tr>\n",
       "      <th rowspan=\"2\" valign=\"top\">Up</th>\n",
       "      <th>low</th>\n",
       "      <th>2017-03-22</th>\n",
       "      <td>139.850006</td>\n",
       "      <td>141.600006</td>\n",
       "      <td>139.759995</td>\n",
       "      <td>141.419998</td>\n",
       "      <td>140.838669</td>\n",
       "      <td>25860200</td>\n",
       "      <td>1.569992</td>\n",
       "      <td>Up</td>\n",
       "      <td>low</td>\n",
       "      <td>1</td>\n",
       "    </tr>\n",
       "    <tr>\n",
       "      <th>high</th>\n",
       "      <th>2017-05-08</th>\n",
       "      <td>149.029999</td>\n",
       "      <td>153.699997</td>\n",
       "      <td>149.029999</td>\n",
       "      <td>153.009995</td>\n",
       "      <td>152.381027</td>\n",
       "      <td>48752400</td>\n",
       "      <td>3.979996</td>\n",
       "      <td>Up</td>\n",
       "      <td>high</td>\n",
       "      <td>1</td>\n",
       "    </tr>\n",
       "  </tbody>\n",
       "</table>\n",
       "</div>"
      ],
      "text/plain": [
       "                                 Open        High         Low       Close  \\\n",
       "Trend Activity Date                                                         \n",
       "Down  low      2017-05-22  154.000000  154.580002  152.910004  153.990005   \n",
       "      high     2017-02-15  135.520004  136.270004  134.619995  135.509995   \n",
       "Up    low      2017-03-22  139.850006  141.600006  139.759995  141.419998   \n",
       "      high     2017-05-08  149.029999  153.699997  149.029999  153.009995   \n",
       "\n",
       "                            Adj Close    Volume    Change Trend Activity  \\\n",
       "Trend Activity Date                                                        \n",
       "Down  low      2017-05-22  153.990005  22966400 -0.009995  Down      low   \n",
       "      high     2017-02-15  134.952957  35623100 -0.010009  Down     high   \n",
       "Up    low      2017-03-22  140.838669  25860200  1.569992    Up      low   \n",
       "      high     2017-05-08  152.381027  48752400  3.979996    Up     high   \n",
       "\n",
       "                           ChangeRank  \n",
       "Trend Activity Date                    \n",
       "Down  low      2017-05-22           1  \n",
       "      high     2017-02-15           1  \n",
       "Up    low      2017-03-22           1  \n",
       "      high     2017-05-08           1  "
      ]
     },
     "execution_count": 71,
     "metadata": {},
     "output_type": "execute_result"
    }
   ],
   "source": [
    "dfranked[dfranked.ChangeRank==1]"
   ]
  },
  {
   "cell_type": "markdown",
   "metadata": {},
   "source": [
    "#### transform"
   ]
  },
  {
   "cell_type": "code",
   "execution_count": 72,
   "metadata": {
    "collapsed": true
   },
   "outputs": [],
   "source": [
    "zscore = lambda x: (x - x.mean())/x.std()"
   ]
  },
  {
   "cell_type": "code",
   "execution_count": 73,
   "metadata": {
    "collapsed": false
   },
   "outputs": [
    {
     "data": {
      "text/plain": [
       "Date\n",
       "2017-01-03   -0.754853\n",
       "2017-01-04   -0.994118\n",
       "2017-01-05   -0.302903\n",
       "2017-01-06    0.281970\n",
       "2017-01-09    0.162332\n",
       "2017-01-10   -0.768139\n",
       "2017-01-11    0.122456\n",
       "2017-01-12   -0.754854\n",
       "2017-01-13    0.643921\n",
       "2017-01-17    0.986471\n",
       "2017-01-18    0.704981\n",
       "2017-01-19   -0.714978\n",
       "2017-01-20    0.257193\n",
       "2017-01-23   -1.113746\n",
       "2017-01-24   -0.661807\n",
       "2017-01-25    0.720614\n",
       "2017-01-26   -0.861186\n",
       "2017-01-27    0.521793\n",
       "2017-01-30   -0.289618\n",
       "2017-01-31   -0.954244\n",
       "2017-02-01    1.066221\n",
       "2017-02-02   -0.489007\n",
       "2017-02-03   -0.196562\n",
       "2017-02-06    0.321824\n",
       "2017-02-07    0.095876\n",
       "2017-02-08   -0.302924\n",
       "2017-02-09   -0.196562\n",
       "2017-02-10    0.369126\n",
       "2017-02-13   -0.940959\n",
       "2017-02-14    0.840252\n",
       "                ...   \n",
       "2017-05-19    0.389485\n",
       "2017-05-22    0.704988\n",
       "2017-05-23   -0.404315\n",
       "2017-05-24    0.206304\n",
       "2017-05-25   -1.033995\n",
       "2017-05-26    0.318253\n",
       "2017-05-30   -0.887777\n",
       "2017-05-31   -0.516279\n",
       "2017-06-01   -1.206803\n",
       "2017-06-02    1.265601\n",
       "2017-06-05    0.297895\n",
       "2017-06-06   -0.488998\n",
       "2017-06-07   -0.754864\n",
       "2017-06-08    0.450560\n",
       "2017-06-09   -5.604845\n",
       "2017-06-12    0.389485\n",
       "2017-06-13    0.135056\n",
       "2017-06-14   -1.666284\n",
       "2017-06-15    0.069264\n",
       "2017-06-16   -0.821581\n",
       "2017-06-19    2.342289\n",
       "2017-06-20   -1.177786\n",
       "2017-06-21   -0.754864\n",
       "2017-06-22    0.572682\n",
       "2017-06-23    0.308540\n",
       "2017-06-26   -0.658743\n",
       "2017-06-27   -0.587511\n",
       "2017-06-28    0.561101\n",
       "2017-06-29   -0.333098\n",
       "2017-06-30    0.277551\n",
       "Name: Change, dtype: float64"
      ]
     },
     "execution_count": 73,
     "metadata": {},
     "output_type": "execute_result"
    }
   ],
   "source": [
    "df.groupby('Trend').Change.transform(zscore)"
   ]
  }
 ],
 "metadata": {
  "anaconda-cloud": {},
  "kernelspec": {
   "display_name": "Python [conda root]",
   "language": "python",
   "name": "conda-root-py"
  },
  "language_info": {
   "codemirror_mode": {
    "name": "ipython",
    "version": 2
   },
   "file_extension": ".py",
   "mimetype": "text/x-python",
   "name": "python",
   "nbconvert_exporter": "python",
   "pygments_lexer": "ipython2",
   "version": "2.7.11"
  }
 },
 "nbformat": 4,
 "nbformat_minor": 0
}
