{
 "cells": [
  {
   "cell_type": "code",
   "execution_count": 8,
   "metadata": {
    "collapsed": false
   },
   "outputs": [
    {
     "name": "stdout",
     "output_type": "stream",
     "text": [
      "John--18--12--3.8\n",
      "John--18--12--3.9\n",
      "John--19--12--3.9\n",
      "1\n",
      "mike--20--13--4.0\n",
      "2\n"
     ]
    }
   ],
   "source": [
    "class Person:\n",
    "    # class variable\n",
    "    count = 0\n",
    "    \n",
    "    def __init__(self, name, age):\n",
    "        self.name = name\n",
    "        self.age = age\n",
    "        Person.count += 1\n",
    "        \n",
    "    def changeAge(self, age):\n",
    "        self.age = age\n",
    "    \n",
    "    def __str__(self):\n",
    "        return self.name + '--' + str(self.age)\n",
    "\n",
    "    #------------------------------------------------\n",
    "class Student( Person ):\n",
    "    def __init__(self, name, age, grade, gpa ):\n",
    "        Person.__init__(self, name, age)\n",
    "        self.grade = grade\n",
    "        self.gpa = gpa\n",
    "        \n",
    "    def changeGpa(self, gpa):\n",
    "        self.gpa = gpa\n",
    "        \n",
    "    def __str__(self):\n",
    "        return Person.__str__(self) + '--' + str(self.grade) + '--' + str(self.gpa)  # call upper level functions\n",
    "    \n",
    "    def __call__(self):\n",
    "        print self.__str__()\n",
    "        print Person.count  # call class variable\n",
    "    \n",
    "s1 = Student( \"John\", 18, 12, 3.8 )\n",
    "print(s1)\n",
    "s1.changeGpa(3.9)\n",
    "print(s1)\n",
    "s1.changeAge(19)\n",
    "s1()\n",
    "s2 = Student('mike', 20, 13, 4.0)\n",
    "s2()\n"
   ]
  }
 ],
 "metadata": {
  "kernelspec": {
   "display_name": "Python 2",
   "language": "python",
   "name": "python2"
  },
  "language_info": {
   "codemirror_mode": {
    "name": "ipython",
    "version": 2
   },
   "file_extension": ".py",
   "mimetype": "text/x-python",
   "name": "python",
   "nbconvert_exporter": "python",
   "pygments_lexer": "ipython2",
   "version": "2.7.11"
  }
 },
 "nbformat": 4,
 "nbformat_minor": 0
}
