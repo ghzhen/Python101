{
 "cells": [
  {
   "cell_type": "code",
   "execution_count": 1,
   "metadata": {
    "collapsed": true
   },
   "outputs": [],
   "source": [
    "import numpy as np\n",
    "import pandas as pd\n",
    "from pandas import Series, DataFrame\n",
    "from numpy.random import randn"
   ]
  },
  {
   "cell_type": "code",
   "execution_count": 7,
   "metadata": {
    "collapsed": false
   },
   "outputs": [
    {
     "data": {
      "text/plain": [
       "(Gary     92\n",
       " Alex     88\n",
       " Kris     95\n",
       " Tom      85\n",
       " Cathy    98\n",
       " Name: Python 101 Students, dtype: int64, Gary     False\n",
       " Alex     False\n",
       " Kris     False\n",
       " Tom      False\n",
       " Cathy    False\n",
       " Name: Python 101 Students, dtype: bool, Gary     True\n",
       " Alex     True\n",
       " Kris     True\n",
       " Tom      True\n",
       " Cathy    True\n",
       " Name: Python 101 Students, dtype: bool)"
      ]
     },
     "execution_count": 7,
     "metadata": {},
     "output_type": "execute_result"
    }
   ],
   "source": [
    "scores = [ 92, 88, 95, 85, 98 ]\n",
    "students = ['Gary', 'Alex', 'Kris', 'Tom', 'Cathy']\n",
    "s3 = Series(scores, index=students)\n",
    "s3.name = \"Python 101 Students\"\n",
    "s3, pd.isnull(s3), pd.notnull(s3)"
   ]
  },
  {
   "cell_type": "code",
   "execution_count": 8,
   "metadata": {
    "collapsed": false
   },
   "outputs": [
    {
     "data": {
      "text/plain": [
       "A    11\n",
       "B    12\n",
       "C    13\n",
       "D    14\n",
       "E    15\n",
       "dtype: int64"
      ]
     },
     "execution_count": 8,
     "metadata": {},
     "output_type": "execute_result"
    }
   ],
   "source": [
    "x = list( range(11, 16))\n",
    "ind = ['A', 'B', 'C', 'D', 'E']\n",
    "S5 = Series( x, index=ind )\n",
    "S5"
   ]
  },
  {
   "cell_type": "code",
   "execution_count": 9,
   "metadata": {
    "collapsed": false
   },
   "outputs": [
    {
     "data": {
      "text/plain": [
       "A    11\n",
       "B    12\n",
       "C    13\n",
       "D    14\n",
       "E    15\n",
       "F   NaN\n",
       "G   NaN\n",
       "dtype: float64"
      ]
     },
     "execution_count": 9,
     "metadata": {},
     "output_type": "execute_result"
    }
   ],
   "source": [
    "ind2 = ['A', 'B', 'C', 'D', 'E', 'F', 'G']\n",
    "S6 = S5.reindex( ind2 )\n",
    "S6"
   ]
  },
  {
   "cell_type": "code",
   "execution_count": 10,
   "metadata": {
    "collapsed": false
   },
   "outputs": [
    {
     "data": {
      "text/plain": [
       "A    11\n",
       "B    12\n",
       "C    13\n",
       "D    14\n",
       "E    15\n",
       "F   NaN\n",
       "G   NaN\n",
       "H     0\n",
       "I     0\n",
       "dtype: float64"
      ]
     },
     "execution_count": 10,
     "metadata": {},
     "output_type": "execute_result"
    }
   ],
   "source": [
    "ind3 = ['A', 'B', 'C', 'D', 'E', 'F', 'G', 'H', 'I']\n",
    "S7 = S6.reindex( ind3, fill_value = 0 )\n",
    "S7"
   ]
  },
  {
   "cell_type": "code",
   "execution_count": 20,
   "metadata": {
    "collapsed": false
   },
   "outputs": [
    {
     "data": {
      "text/plain": [
       "A    11\n",
       "B    12\n",
       "C    13\n",
       "D    14\n",
       "E    15\n",
       "H     0\n",
       "I     0\n",
       "dtype: float64"
      ]
     },
     "execution_count": 20,
     "metadata": {},
     "output_type": "execute_result"
    }
   ],
   "source": [
    "S7.dropna()"
   ]
  },
  {
   "cell_type": "code",
   "execution_count": 21,
   "metadata": {
    "collapsed": false
   },
   "outputs": [
    {
     "data": {
      "text/plain": [
       "C    13\n",
       "E    15\n",
       "dtype: float64"
      ]
     },
     "execution_count": 21,
     "metadata": {},
     "output_type": "execute_result"
    }
   ],
   "source": [
    "S7[ ['C', 'E'] ]"
   ]
  },
  {
   "cell_type": "code",
   "execution_count": 12,
   "metadata": {
    "collapsed": false
   },
   "outputs": [
    {
     "data": {
      "text/plain": [
       "D    14\n",
       "E    15\n",
       "dtype: float64"
      ]
     },
     "execution_count": 12,
     "metadata": {},
     "output_type": "execute_result"
    }
   ],
   "source": [
    "S7[ S7 >13 ]"
   ]
  },
  {
   "cell_type": "code",
   "execution_count": 16,
   "metadata": {
    "collapsed": false
   },
   "outputs": [
    {
     "data": {
      "text/plain": [
       "(A    0.981801\n",
       " B    0.607670\n",
       " C    0.767485\n",
       " dtype: float64, A    0.534557\n",
       " B    0.864885\n",
       " C    0.568053\n",
       " D    0.335541\n",
       " dtype: float64, A    1.516358\n",
       " B    1.472555\n",
       " C    1.335538\n",
       " D         NaN\n",
       " dtype: float64)"
      ]
     },
     "execution_count": 16,
     "metadata": {},
     "output_type": "execute_result"
    }
   ],
   "source": [
    "S8 = Series( np.random.rand(3), index=['A', 'B', 'C'] )\n",
    "S9 = Series( np.random.rand(4), index=['A', 'B', 'C', 'D'] )\n",
    "S8, S9, S8 + S9"
   ]
  },
  {
   "cell_type": "code",
   "execution_count": 17,
   "metadata": {
    "collapsed": false
   },
   "outputs": [
    {
     "data": {
      "text/plain": [
       "A    2\n",
       "B    4\n",
       "C    3\n",
       "D    1\n",
       "dtype: float64"
      ]
     },
     "execution_count": 17,
     "metadata": {},
     "output_type": "execute_result"
    }
   ],
   "source": [
    "S9.rank()  # the ranking "
   ]
  },
  {
   "cell_type": "code",
   "execution_count": 19,
   "metadata": {
    "collapsed": false
   },
   "outputs": [
    {
     "name": "stderr",
     "output_type": "stream",
     "text": [
      "/home/zliu/anaconda2/lib/python2.7/site-packages/ipykernel/__main__.py:1: FutureWarning: sort is deprecated, use sort_values(inplace=True) for for INPLACE sorting\n",
      "  if __name__ == '__main__':\n"
     ]
    },
    {
     "data": {
      "text/plain": [
       "D    0.335541\n",
       "A    0.534557\n",
       "C    0.568053\n",
       "B    0.864885\n",
       "dtype: float64"
      ]
     },
     "execution_count": 19,
     "metadata": {},
     "output_type": "execute_result"
    }
   ],
   "source": [
    "S9.sort()   # rearrange the Serie\n",
    "S9"
   ]
  },
  {
   "cell_type": "code",
   "execution_count": 22,
   "metadata": {
    "collapsed": false
   },
   "outputs": [
    {
     "data": {
      "text/plain": [
       "1  a    459\n",
       "   b    952\n",
       "   c    205\n",
       "2  a    932\n",
       "   b    522\n",
       "   c    700\n",
       "dtype: int64"
      ]
     },
     "execution_count": 22,
     "metadata": {},
     "output_type": "execute_result"
    }
   ],
   "source": [
    "ind1 = [1,1,1, 2, 2, 2 ]\n",
    "ind2 = \"a b c a b c\".split()\n",
    "x = []\n",
    "for i in range(6):\n",
    "    x.append( np.random.randint( 101, 1000))\n",
    "S13 = Series( x, index=[ ind1, ind2 ])\n",
    "S13"
   ]
  },
  {
   "cell_type": "code",
   "execution_count": 23,
   "metadata": {
    "collapsed": false
   },
   "outputs": [
    {
     "data": {
      "text/plain": [
       "a    459\n",
       "b    952\n",
       "c    205\n",
       "dtype: int64"
      ]
     },
     "execution_count": 23,
     "metadata": {},
     "output_type": "execute_result"
    }
   ],
   "source": [
    "S13[1]"
   ]
  },
  {
   "cell_type": "code",
   "execution_count": 24,
   "metadata": {
    "collapsed": false
   },
   "outputs": [
    {
     "data": {
      "text/plain": [
       "1    459\n",
       "2    932\n",
       "dtype: int64"
      ]
     },
     "execution_count": 24,
     "metadata": {},
     "output_type": "execute_result"
    }
   ],
   "source": [
    "S13[ :, 'a']"
   ]
  },
  {
   "cell_type": "code",
   "execution_count": 25,
   "metadata": {
    "collapsed": false
   },
   "outputs": [
    {
     "data": {
      "text/html": [
       "<div>\n",
       "<table border=\"1\" class=\"dataframe\">\n",
       "  <thead>\n",
       "    <tr style=\"text-align: right;\">\n",
       "      <th></th>\n",
       "      <th>a</th>\n",
       "      <th>b</th>\n",
       "      <th>c</th>\n",
       "    </tr>\n",
       "  </thead>\n",
       "  <tbody>\n",
       "    <tr>\n",
       "      <th>1</th>\n",
       "      <td>459</td>\n",
       "      <td>952</td>\n",
       "      <td>205</td>\n",
       "    </tr>\n",
       "    <tr>\n",
       "      <th>2</th>\n",
       "      <td>932</td>\n",
       "      <td>522</td>\n",
       "      <td>700</td>\n",
       "    </tr>\n",
       "  </tbody>\n",
       "</table>\n",
       "</div>"
      ],
      "text/plain": [
       "     a    b    c\n",
       "1  459  952  205\n",
       "2  932  522  700"
      ]
     },
     "execution_count": 25,
     "metadata": {},
     "output_type": "execute_result"
    }
   ],
   "source": [
    "df1 = S13.unstack()\n",
    "df1"
   ]
  }
 ],
 "metadata": {
  "kernelspec": {
   "display_name": "Python 2",
   "language": "python",
   "name": "python2"
  },
  "language_info": {
   "codemirror_mode": {
    "name": "ipython",
    "version": 2
   },
   "file_extension": ".py",
   "mimetype": "text/x-python",
   "name": "python",
   "nbconvert_exporter": "python",
   "pygments_lexer": "ipython2",
   "version": "2.7.11"
  }
 },
 "nbformat": 4,
 "nbformat_minor": 0
}
