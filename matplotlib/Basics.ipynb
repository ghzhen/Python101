{
 "cells": [
  {
   "cell_type": "code",
   "execution_count": 6,
   "metadata": {
    "collapsed": true
   },
   "outputs": [],
   "source": [
    "% matplotlib inline\n",
    "import pandas as pd\n",
    "import matplotlib.pyplot as plt\n",
    "import matplotlib as mpl\n",
    "import numpy as np\n",
    "import datetime, random\n",
    "from pandas import Series, DataFrame"
   ]
  },
  {
   "cell_type": "code",
   "execution_count": 9,
   "metadata": {
    "collapsed": false
   },
   "outputs": [],
   "source": [
    "filepath = '/media/bigdata_log/RIL/Samsung/csv/combined/PM/RACH Usage-4.0.0.csv/part-00000'\n",
    "df = pd.read_csv(filepath)\n",
    "df = df.drop(df.columns[[0,1,3,7,8,9,10]],axis=1)"
   ]
  },
  {
   "cell_type": "code",
   "execution_count": 10,
   "metadata": {
    "collapsed": false
   },
   "outputs": [
    {
     "name": "stderr",
     "output_type": "stream",
     "text": [
      "/home/zliu/anaconda2/lib/python2.7/site-packages/ipykernel/__main__.py:13: FutureWarning: sort(columns=....) is deprecated, use sort_values(by=.....)\n"
     ]
    },
    {
     "data": {
      "text/html": [
       "<div>\n",
       "<table border=\"1\" class=\"dataframe\">\n",
       "  <thead>\n",
       "    <tr style=\"text-align: right;\">\n",
       "      <th></th>\n",
       "      <th>EVENT_TIME</th>\n",
       "      <th>RACHReportsRcvNum(count)</th>\n",
       "      <th>PreambleSent1(count)</th>\n",
       "      <th>RetransNum</th>\n",
       "    </tr>\n",
       "  </thead>\n",
       "  <tbody>\n",
       "    <tr>\n",
       "      <th>5697</th>\n",
       "      <td>2015-05-09 16:15:00</td>\n",
       "      <td>5</td>\n",
       "      <td>5</td>\n",
       "      <td>0</td>\n",
       "    </tr>\n",
       "    <tr>\n",
       "      <th>2307</th>\n",
       "      <td>2015-05-09 16:30:00</td>\n",
       "      <td>7</td>\n",
       "      <td>7</td>\n",
       "      <td>0</td>\n",
       "    </tr>\n",
       "    <tr>\n",
       "      <th>11366</th>\n",
       "      <td>2015-05-09 16:45:00</td>\n",
       "      <td>10</td>\n",
       "      <td>10</td>\n",
       "      <td>0</td>\n",
       "    </tr>\n",
       "    <tr>\n",
       "      <th>20492</th>\n",
       "      <td>2015-05-09 17:15:00</td>\n",
       "      <td>7</td>\n",
       "      <td>7</td>\n",
       "      <td>0</td>\n",
       "    </tr>\n",
       "    <tr>\n",
       "      <th>28496</th>\n",
       "      <td>2015-05-09 17:30:00</td>\n",
       "      <td>0</td>\n",
       "      <td>0</td>\n",
       "      <td>0</td>\n",
       "    </tr>\n",
       "  </tbody>\n",
       "</table>\n",
       "</div>"
      ],
      "text/plain": [
       "                EVENT_TIME  RACHReportsRcvNum(count)  PreambleSent1(count)  \\\n",
       "5697   2015-05-09 16:15:00                         5                     5   \n",
       "2307   2015-05-09 16:30:00                         7                     7   \n",
       "11366  2015-05-09 16:45:00                        10                    10   \n",
       "20492  2015-05-09 17:15:00                         7                     7   \n",
       "28496  2015-05-09 17:30:00                         0                     0   \n",
       "\n",
       "       RetransNum  \n",
       "5697            0  \n",
       "2307            0  \n",
       "11366           0  \n",
       "20492           0  \n",
       "28496           0  "
      ]
     },
     "execution_count": 10,
     "metadata": {},
     "output_type": "execute_result"
    }
   ],
   "source": [
    "def getretrans(data):\n",
    "    return data[0]-data[1]\n",
    "\n",
    "# get statistics for a specific cell\n",
    "EARFCN = 'EarfcnDl1616'\n",
    "NEID = 2764\n",
    "cellID = 'cNum5'\n",
    "df_numRA = df[(df.EarfcnDl==EARFCN)&(df.NE_ID==NEID)&(df.cNum==cellID)][['EVENT_TIME',\n",
    "                                                                         'RACHReportsRcvNum(count)',\n",
    "                                                                         'PreambleSent1(count)']]\n",
    "df_numRA['RetransNum'] = df_numRA[['RACHReportsRcvNum(count)','PreambleSent1(count)']].apply(getretrans,axis=1)\n",
    "                                                                         \n",
    "df_numRA.sort(columns='EVENT_TIME',inplace=True)\n",
    "df_numRA.head()"
   ]
  },
  {
   "cell_type": "markdown",
   "metadata": {},
   "source": [
    "### ====== plot datetime in x axis ======\n",
    "\n",
    "www.seehuhn.de/pages/pdate"
   ]
  },
  {
   "cell_type": "markdown",
   "metadata": {},
   "source": [
    "#### === method one: to pandas timestamp object then to datetime and plot"
   ]
  },
  {
   "cell_type": "code",
   "execution_count": 11,
   "metadata": {
    "collapsed": false
   },
   "outputs": [
    {
     "data": {
      "text/plain": [
       "datetime.datetime(2015, 5, 9, 16, 15)"
      ]
     },
     "execution_count": 11,
     "metadata": {},
     "output_type": "execute_result"
    }
   ],
   "source": [
    "df"
   ]
  },
  {
   "cell_type": "markdown",
   "metadata": {},
   "source": [
    "#### === method two: convert string to datetime with strptime()\n",
    "> * easier for irregular formatted time string"
   ]
  },
  {
   "cell_type": "code",
   "execution_count": 87,
   "metadata": {
    "collapsed": false
   },
   "outputs": [
    {
     "data": {
      "text/plain": [
       "datetime.datetime(2015, 5, 9, 16, 15)"
      ]
     },
     "execution_count": 87,
     "metadata": {},
     "output_type": "execute_result"
    }
   ],
   "source": [
    "time1 = map(lambda x: datetime.datetime.strptime(x, '%Y-%m-%d %H:%M:%S'), df_numRA.EVENT_TIME.tolist())\n",
    "time1[0]"
   ]
  },
  {
   "cell_type": "markdown",
   "metadata": {},
   "source": [
    "#### === method 3: using pd.Timestamp(t) and timestamp object's to_datetime() function "
   ]
  },
  {
   "cell_type": "code",
   "execution_count": 75,
   "metadata": {
    "collapsed": false
   },
   "outputs": [
    {
     "data": {
      "text/plain": [
       "datetime.datetime(2015, 5, 9, 16, 15)"
      ]
     },
     "execution_count": 75,
     "metadata": {},
     "output_type": "execute_result"
    }
   ],
   "source": [
    "time2 = map(lambda x: pd.Timestamp(x).to_datetime(), df_numRA.EVENT_TIME.tolist())\n",
    "time2[0]"
   ]
  },
  {
   "cell_type": "markdown",
   "metadata": {},
   "source": [
    "#### === funny thing: \n",
    "> * pd.to_datetime(time_string) takes a string and return a timestamp object\n",
    "> * timestamp_object.to_datetime() returns the datetime format\n",
    "> *    \n",
    "> * pd.Timestamp(time_string) has the same effect as pd.to_datetime(time_string)\n",
    "> * timestamp_object.to_pydatetime() works the same as timestamp_object.to_datetime()  "
   ]
  },
  {
   "cell_type": "code",
   "execution_count": 84,
   "metadata": {
    "collapsed": false
   },
   "outputs": [
    {
     "data": {
      "text/plain": [
       "datetime.datetime(2016, 2, 22, 14, 21, 1, 888000)"
      ]
     },
     "execution_count": 84,
     "metadata": {},
     "output_type": "execute_result"
    }
   ],
   "source": [
    "tstr = '2016-2-22 14:21:01.888'\n",
    "pd.to_datetime(tstr).to_datetime()"
   ]
  },
  {
   "cell_type": "code",
   "execution_count": 85,
   "metadata": {
    "collapsed": false
   },
   "outputs": [
    {
     "data": {
      "text/plain": [
       "datetime.datetime(2016, 2, 22, 14, 21, 2, 999000)"
      ]
     },
     "execution_count": 85,
     "metadata": {},
     "output_type": "execute_result"
    }
   ],
   "source": [
    "tstr = '2016-2-22 14:21:02.999'\n",
    "pd.Timestamp(tstr).to_pydatetime()"
   ]
  },
  {
   "cell_type": "markdown",
   "metadata": {},
   "source": [
    "#### === plot"
   ]
  },
  {
   "cell_type": "code",
   "execution_count": 12,
   "metadata": {
    "collapsed": false
   },
   "outputs": [],
   "source": [
    "x = timeserie[:200]\n",
    "y1 = df_numRA['RACHReportsRcvNum(count)'].tolist()[:200]\n",
    "y2 = df_numRA.RetransNum.tolist()[:200]\n",
    "y3 = df_numRA['PreambleSent1(count)'].tolist()[:200]"
   ]
  },
  {
   "cell_type": "code",
   "execution_count": 13,
   "metadata": {
    "collapsed": false
   },
   "outputs": [
    {
     "data": {
      "image/png": "[encoded data removed]",
      "text/plain": [
       "<matplotlib.figure.Figure at 0x7f9bafef0350>"
      ]
     },
     "metadata": {},
     "output_type": "display_data"
    }
   ],
   "source": [
    "# plot the first 200 entries\n",
    "plt.plot(x, y1 ,label='#RACH')\n",
    "plt.plot(x, y2,label='#retrans')\n",
    "# beautify the plot\n",
    "plt.gcf().autofmt_xdate()\n",
    "\n",
    "plt.xlabel('time')\n",
    "plt.ylabel('number of RAs')\n",
    "plt.title('number of RAs per 15 min')\n",
    "\n",
    "plt.legend()\n",
    "\n",
    "plt.show()"
   ]
  },
  {
   "cell_type": "markdown",
   "metadata": {},
   "source": [
    "#### === bar plot"
   ]
  },
  {
   "cell_type": "code",
   "execution_count": 14,
   "metadata": {
    "collapsed": false
   },
   "outputs": [
    {
     "data": {
      "image/png": "[encoded data removed]",
      "text/plain": [
       "<matplotlib.figure.Figure at 0x7f9baf010d10>"
      ]
     },
     "metadata": {},
     "output_type": "display_data"
    }
   ],
   "source": [
    "plt.bar(x, y1, label='#RACH', color = 'm')\n",
    "plt.bar(x, y2, label='#retrans', color = 'g')\n",
    "plt.legend()\n",
    "plt.show()\n",
    "\n",
    "# plt.bar(range(len(y1)),y1)\n",
    "# plt.show()"
   ]
  },
  {
   "cell_type": "markdown",
   "metadata": {},
   "source": [
    "#### === histogram"
   ]
  },
  {
   "cell_type": "code",
   "execution_count": 15,
   "metadata": {
    "collapsed": false
   },
   "outputs": [
    {
     "data": {
      "image/png": "[encoded data removed]",
      "text/plain": [
       "<matplotlib.figure.Figure at 0x7f9baf0cf090>"
      ]
     },
     "metadata": {},
     "output_type": "display_data"
    }
   ],
   "source": [
    "plt.hist(y1, histtype ='bar',rwidth=0.8)\n",
    "plt.show()\n",
    "\n",
    "# bins = [0,5,10,15,20]\n",
    "# plt.hist(y1, bins, histtype='bar',rwidth=0.8)\n",
    "# plt.show()\n",
    "\n",
    "# plt.hist(y1, cumulative = 'True', rwidth=0.8)\n",
    "# plt.show()"
   ]
  },
  {
   "cell_type": "markdown",
   "metadata": {},
   "source": [
    "#### === scatter plot"
   ]
  },
  {
   "cell_type": "code",
   "execution_count": 16,
   "metadata": {
    "collapsed": false
   },
   "outputs": [
    {
     "data": {
      "image/png": "[encoded data removed]",
      "text/plain": [
       "<matplotlib.figure.Figure at 0x7f9baeddf250>"
      ]
     },
     "metadata": {},
     "output_type": "display_data"
    }
   ],
   "source": [
    "plt.scatter(y1,y2,marker='o',color='c')\n",
    "plt.scatter(y1,y3,marker='^',color='m')\n",
    "plt.show()"
   ]
  },
  {
   "cell_type": "markdown",
   "metadata": {},
   "source": [
    "#### === stack plot"
   ]
  },
  {
   "cell_type": "code",
   "execution_count": 7,
   "metadata": {
    "collapsed": false
   },
   "outputs": [
    {
     "data": {
      "image/png": "[encoded data removed]",
      "text/plain": [
       "<matplotlib.figure.Figure at 0x7f9baf0807d0>"
      ]
     },
     "metadata": {},
     "output_type": "display_data"
    }
   ],
   "source": [
    "year = range(10)\n",
    "taxes = [17, 18,40,43,44,8,43,32,39,30]\n",
    "overhead = [30,22,9,29,17,12,14,24,49,35]\n",
    "entertainment = [41,32,27,13,19,12,22,18,28,20]\n",
    "\n",
    "plt.plot([],[],color='m',label='tax')\n",
    "plt.plot([],[],color='c',label='overhead')\n",
    "plt.plot([],[],color='b',label='entertainment')\n",
    "\n",
    "plt.stackplot(year, taxes, overhead, entertainment, colors=['m','c','b'])\n",
    "plt.legend()\n",
    "plt.xlabel('year')\n",
    "plt.ylabel('cost, in thousands')\n",
    "plt.show()"
   ]
  },
  {
   "cell_type": "markdown",
   "metadata": {},
   "source": [
    "#### === pie plot"
   ]
  },
  {
   "cell_type": "code",
   "execution_count": 8,
   "metadata": {
    "collapsed": false
   },
   "outputs": [
    {
     "data": {
      "image/png": "[encoded data removed]",
      "text/plain": [
       "<matplotlib.figure.Figure at 0x7f9baf0ecb90>"
      ]
     },
     "metadata": {},
     "output_type": "display_data"
    }
   ],
   "source": [
    "labels = 'tax','overhead','entertainment'\n",
    "sizes = [25,32,12]\n",
    "colors = ['m','c','b']\n",
    "\n",
    "plt.pie(sizes, labels=labels, colors=colors, startangle=90, autopct='%1.1f%%', explode=(0, 0.1, 0))\n",
    "plt.axis('equal')\n",
    "plt.show()"
   ]
  },
  {
   "cell_type": "markdown",
   "metadata": {},
   "source": [
    "### ====== load data from csv ======"
   ]
  },
  {
   "cell_type": "raw",
   "metadata": {},
   "source": [
    "x=[]\n",
    "y=[]\n",
    "with open('filename.txt','r') as csvfile:\n",
    "    data = csv.reader(csvfile, delimiter=',')\n",
    "    for row in data:\n",
    "        x.append(int(row[0]))\n",
    "        y.append(int(row[1]))"
   ]
  },
  {
   "cell_type": "markdown",
   "metadata": {},
   "source": [
    "### ====== load data with numpy ======"
   ]
  },
  {
   "cell_type": "raw",
   "metadata": {},
   "source": [
    "x, y = np.loadtxt('filename.txt',delimiter=',',unpack=True)"
   ]
  }
 ],
 "metadata": {
  "anaconda-cloud": {},
  "kernelspec": {
   "display_name": "Python [default]",
   "language": "python",
   "name": "python2"
  },
  "language_info": {
   "codemirror_mode": {
    "name": "ipython",
    "version": 2
   },
   "file_extension": ".py",
   "mimetype": "text/x-python",
   "name": "python",
   "nbconvert_exporter": "python",
   "pygments_lexer": "ipython2",
   "version": "2.7.11"
  }
 },
 "nbformat": 4,
 "nbformat_minor": 0
}
