{
 "cells": [
  {
   "cell_type": "code",
   "execution_count": 2,
   "metadata": {
    "collapsed": true
   },
   "outputs": [],
   "source": [
    "import sqlite3 as sql"
   ]
  },
  {
   "cell_type": "code",
   "execution_count": 4,
   "metadata": {
    "collapsed": false
   },
   "outputs": [
    {
     "name": "stdout",
     "output_type": "stream",
     "text": [
      "(101, u'John', 99)\n",
      "(102, u'Gary', 90)\n",
      "(103, u'James', 80)\n",
      "(104, u'Cathy', 85)\n",
      "(105, u'Kris', 95)\n",
      "--------------------------------------------------\n",
      "(102, u'Gary', 90)\n",
      "--------------------------------------------------\n",
      "(101, u'John', 99)\n",
      "(102, u'Gary', 90)\n",
      "(105, u'Kris', 95)\n",
      "--------------------------------------------------\n",
      "(u'John', 99)\n",
      "(u'Kris', 95)\n",
      "(u'Gary', 90)\n",
      "(u'Cathy', 85)\n",
      "(u'James', 80)\n",
      "--------------------------------------------------\n",
      "(u'James', 80)\n",
      "(u'Cathy', 85)\n",
      "(u'Gary', 90)\n",
      "(u'Kris', 95)\n",
      "(u'John', 99)\n"
     ]
    }
   ],
   "source": [
    "db = sql.connect('Student.db')\n",
    "\n",
    "db.execute(\"drop table if exists grades\")\n",
    "db.execute(\"create table grades(id int, name text, score int)\")\n",
    "\n",
    "db.execute(\"insert into grades(id, name, score) values(101, 'John',99 )\")\n",
    "db.execute(\"insert into grades(id, name, score) values(102, 'Gary',90 )\")\n",
    "db.execute(\"insert into grades(id, name, score) values(103, 'James', 80 )\")\n",
    "db.execute(\"insert into grades(id, name, score) values(104, 'Cathy', 85 )\")\n",
    "db.execute(\"insert into grades(id, name, score) values(105, 'Kris',95 )\")\n",
    "\n",
    "db.commit()\n",
    "\n",
    "results = db.execute(\"select * from grades order by id\")\n",
    "for row in results: print(row)\n",
    "    \n",
    "print(\"-\" * 50 )\n",
    "results = db.execute(\"select * from grades where name = 'Gary' \")\n",
    "for row in results: print(row)\n",
    "    \n",
    "print(\"-\" * 50 )\n",
    "results = db.execute(\"select * from grades where score >= 90 \")\n",
    "for row in results: print(row)\n",
    "    \n",
    "print(\"-\" * 50 )\n",
    "results = db.execute(\"select name, score from grades order by score desc \")\n",
    "for row in results: print(row)\n",
    "    \n",
    "print(\"-\" * 50 )\n",
    "results = db.execute(\"select name, score from grades order by score\")\n",
    "for row in results: print(row)"
   ]
  },
  {
   "cell_type": "markdown",
   "metadata": {},
   "source": [
    "### updating and deleting"
   ]
  },
  {
   "cell_type": "code",
   "execution_count": 5,
   "metadata": {
    "collapsed": false
   },
   "outputs": [
    {
     "name": "stdout",
     "output_type": "stream",
     "text": [
      "--------------------------------------------------\n",
      "(101, u'John', 99)\n",
      "(102, u'Gary', 90)\n",
      "(103, u'James', 80)\n",
      "(104, u'Cathy', 88)\n",
      "(105, u'Kris', 95)\n",
      "--------------------------------------------------\n",
      "(101, u'John', 99)\n",
      "(102, u'Gary', 90)\n",
      "(104, u'Cathy', 88)\n",
      "(105, u'Kris', 95)\n"
     ]
    }
   ],
   "source": [
    "db.execute(\"update grades set score = 88 where name = 'Cathy' \")\n",
    "db.commit()\n",
    "\n",
    "print(\"-\" * 50 )\n",
    "results = db.execute(\"select * from grades order by id\")\n",
    "for row in results: print(row)\n",
    "    \n",
    "db.execute(\"delete from grades where id = 103\")\n",
    "db.commit()\n",
    "\n",
    "print(\"-\" * 50 )\n",
    "results = db.execute(\"select * from grades order by id\")\n",
    "for row in results: print(row)"
   ]
  }
 ],
 "metadata": {
  "kernelspec": {
   "display_name": "Python 2",
   "language": "python",
   "name": "python2"
  },
  "language_info": {
   "codemirror_mode": {
    "name": "ipython",
    "version": 2
   },
   "file_extension": ".py",
   "mimetype": "text/x-python",
   "name": "python",
   "nbconvert_exporter": "python",
   "pygments_lexer": "ipython2",
   "version": "2.7.11"
  }
 },
 "nbformat": 4,
 "nbformat_minor": 0
}
