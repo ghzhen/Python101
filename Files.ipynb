{
 "cells": [
  {
   "cell_type": "markdown",
   "metadata": {},
   "source": [
    ">* text file\n",
    ">* binary file"
   ]
  },
  {
   "cell_type": "raw",
   "metadata": {},
   "source": [
    "file = open('filepath',mode) "
   ]
  },
  {
   "cell_type": "markdown",
   "metadata": {},
   "source": [
    "###### mode:\n",
    ">* r/ rb\n",
    ">* w/ wb\n",
    ">* a/ ab\n",
    ">* r+ # read + write"
   ]
  },
  {
   "cell_type": "markdown",
   "metadata": {},
   "source": [
    ">* readline() ==== reads one line \n",
    ">* read() ==== buffered read\n",
    ">* write() ==== buffered write\n",
    ">* tell() ==== get current file pointer # counting is done in bytes\n",
    ">* seek() ==== move the file pointer\n",
    ">* close() ==== close the file"
   ]
  },
  {
   "cell_type": "raw",
   "metadata": {},
   "source": [
    "# one can use print() to write to files\n",
    "sf = open(sourcefile,'r')\n",
    "of = open(outputfile,'w')\n",
    "\n",
    "for line in sf:\n",
    "    print(line, file=of)\n"
   ]
  },
  {
   "cell_type": "markdown",
   "metadata": {},
   "source": [
    "## buffered read and write"
   ]
  },
  {
   "cell_type": "raw",
   "metadata": {},
   "source": [
    "BUFFSIZE = 25000\n",
    "\n",
    "iFile = open(sourcefilename, 'r' )\n",
    "\n",
    "buffer = iFile.read( BUFFSIZE )\n",
    "\n",
    "while( len( buffer )):\n",
    "    print '{} bytes read in'.format(len(buffer))\n",
    "    buffer = iFile.read( BUFFSIZE )"
   ]
  }
 ],
 "metadata": {
  "kernelspec": {
   "display_name": "Python 2",
   "language": "python",
   "name": "python2"
  },
  "language_info": {
   "codemirror_mode": {
    "name": "ipython",
    "version": 2
   },
   "file_extension": ".py",
   "mimetype": "text/x-python",
   "name": "python",
   "nbconvert_exporter": "python",
   "pygments_lexer": "ipython2",
   "version": "2.7.11"
  }
 },
 "nbformat": 4,
 "nbformat_minor": 0
}
