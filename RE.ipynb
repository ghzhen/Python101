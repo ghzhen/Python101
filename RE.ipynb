{
 "cells": [
  {
   "cell_type": "code",
   "execution_count": 2,
   "metadata": {
    "collapsed": true
   },
   "outputs": [],
   "source": [
    " import re"
   ]
  },
  {
   "cell_type": "markdown",
   "metadata": {},
   "source": [
    "##### search() finds the first match"
   ]
  },
  {
   "cell_type": "code",
   "execution_count": 10,
   "metadata": {
    "collapsed": false
   },
   "outputs": [
    {
     "name": "stdout",
     "output_type": "stream",
     "text": [
      "is\n",
      "2 4\n",
      "(2, 4)\n"
     ]
    }
   ],
   "source": [
    "text1 = \"This is a beautiful day\"\n",
    "m = re.search(r'is', text1)\n",
    "print m.group()\n",
    "print m.start(), m.end()\n",
    "print m.span()"
   ]
  },
  {
   "cell_type": "markdown",
   "metadata": {},
   "source": [
    "##### match() just search the beginning "
   ]
  },
  {
   "cell_type": "code",
   "execution_count": 5,
   "metadata": {
    "collapsed": false
   },
   "outputs": [
    {
     "name": "stdout",
     "output_type": "stream",
     "text": [
      "None\n"
     ]
    }
   ],
   "source": [
    "print re.match('is', text1)"
   ]
  },
  {
   "cell_type": "code",
   "execution_count": 8,
   "metadata": {
    "collapsed": false
   },
   "outputs": [
    {
     "name": "stdout",
     "output_type": "stream",
     "text": [
      "<_sre.SRE_Match object at 0x7fe2cc2a2d98>\n"
     ]
    }
   ],
   "source": [
    "print re.match('Th', text1)"
   ]
  },
  {
   "cell_type": "markdown",
   "metadata": {},
   "source": [
    "###### findall() finds all"
   ]
  },
  {
   "cell_type": "code",
   "execution_count": 6,
   "metadata": {
    "collapsed": false
   },
   "outputs": [
    {
     "data": {
      "text/plain": [
       "['is', 'is', 'is']"
      ]
     },
     "execution_count": 6,
     "metadata": {},
     "output_type": "execute_result"
    }
   ],
   "source": [
    "re.findall('is',text1)"
   ]
  },
  {
   "cell_type": "markdown",
   "metadata": {},
   "source": [
    "###### finditer() finds all and returns an iteratior"
   ]
  },
  {
   "cell_type": "code",
   "execution_count": 11,
   "metadata": {
    "collapsed": false
   },
   "outputs": [
    {
     "name": "stdout",
     "output_type": "stream",
     "text": [
      "is 2 4\n",
      "is 5 7\n"
     ]
    }
   ],
   "source": [
    "match = re.finditer('is', text1)\n",
    "for m in match:\n",
    "    print m.group(), m.start(), m.end()"
   ]
  },
  {
   "cell_type": "code",
   "execution_count": 12,
   "metadata": {
    "collapsed": false
   },
   "outputs": [
    {
     "data": {
      "text/plain": [
       "'That is a beautiful day'"
      ]
     },
     "execution_count": 12,
     "metadata": {},
     "output_type": "execute_result"
    }
   ],
   "source": [
    "re.sub('is','at', text1, count=1)"
   ]
  },
  {
   "cell_type": "code",
   "execution_count": 17,
   "metadata": {
    "collapsed": false
   },
   "outputs": [
    {
     "data": {
      "text/plain": [
       "['akaks', 'ksdkdkd', 'aksakks', 'ajsjss', 'shshs', 'ususu', 'hshs']"
      ]
     },
     "execution_count": 17,
     "metadata": {},
     "output_type": "execute_result"
    }
   ],
   "source": [
    "text3 = \"akaks ksdkdkd; aksakks: ajsjss, shshs; ususu; hshs\"\n",
    "re.split(r'[ ;:,]\\s*', text3)"
   ]
  },
  {
   "cell_type": "markdown",
   "metadata": {},
   "source": [
    "# Patterns"
   ]
  },
  {
   "cell_type": "markdown",
   "metadata": {},
   "source": [
    "## Repetition\n",
    "\n",
    ">* 'ab*' ==== a followed by zero or more b's\n",
    ">* 'ab+' ==== a followed by one or more b's\n",
    ">* 'ab?' ==== a followed by zero or one b\n",
    ">* 'ab{n}' ==== a followed by n b's\n",
    ">* 'ab{m,n}' ==== a followed by min m and max n b's\n",
    ">* 'ab{m,}' ==== a followed by min m b's\n",
    ">* 'ab.' ==== a followed by any single non-newline character\n",
    "\n",
    ">* adding ? after * or + makes it ungreeedy"
   ]
  },
  {
   "cell_type": "markdown",
   "metadata": {},
   "source": [
    "## character Sets & Ranges\n",
    "\n",
    ">* [xy] ==== either x or y\n",
    ">* [^xy] ==== exclude x and y\n",
    ">* [a-k] ==== between z and k\n",
    ">* [^p-z] ==== exclude between p and z"
   ]
  },
  {
   "cell_type": "code",
   "execution_count": 20,
   "metadata": {
    "collapsed": false
   },
   "outputs": [
    {
     "data": {
      "text/plain": [
       "['This', 'is', 'a', 'sample', 'text', 'with', 'some', 'punctuation']"
      ]
     },
     "execution_count": 20,
     "metadata": {},
     "output_type": "execute_result"
    }
   ],
   "source": [
    "text = 'This is a sample text. -- with some punctuation!!'\n",
    "re.findall(r'[^.\\-! ]+',text)"
   ]
  },
  {
   "cell_type": "markdown",
   "metadata": {},
   "source": [
    "# Escape code\n",
    "\n",
    ">* \\d ==== single digit\n",
    ">* \\D ==== single non-digit\n",
    ">* \\w ==== single alphanumeric char\n",
    ">* \\W ==== single non-alphanumeric char\n",
    ">* \\s ==== single space\n",
    ">* \\S ==== single non-space\n",
    ">* \\b ==== word boundary"
   ]
  },
  {
   "cell_type": "markdown",
   "metadata": {},
   "source": [
    "# Anchoring \n",
    "\n",
    ">* ^ ==== start of a string\n",
    ">* $ ==== end of a string\n",
    ">* \\A ==== start of a string \n",
    ">* \\Z ==== end of a string\n",
    ">* \\b ==== empty string at the beginning and end of a word"
   ]
  },
  {
   "cell_type": "code",
   "execution_count": 26,
   "metadata": {
    "collapsed": false
   },
   "outputs": [
    {
     "data": {
      "text/plain": [
       "([], ['This'], ['!'])"
      ]
     },
     "execution_count": 26,
     "metadata": {},
     "output_type": "execute_result"
    }
   ],
   "source": [
    "text = 'This is a sample text. -- with some punctuation!!'\n",
    "re.findall(r'^is',text), re.findall(r'This', text), re.findall(r'!$',text)"
   ]
  },
  {
   "cell_type": "code",
   "execution_count": 27,
   "metadata": {
    "collapsed": false
   },
   "outputs": [
    {
     "data": {
      "text/plain": [
       "['is']"
      ]
     },
     "execution_count": 27,
     "metadata": {},
     "output_type": "execute_result"
    }
   ],
   "source": [
    "re.findall(r'\\bis\\b',text)"
   ]
  },
  {
   "cell_type": "markdown",
   "metadata": {},
   "source": [
    "# Flags\n",
    "\n",
    ">* re.IGNORECASE or re.I\n",
    ">* re.DOTALL or re.S\n",
    ">* re.MULTILINE or re.M\n",
    ">* re.VERBOSE or re.X\n",
    ">* re.DEBUG\n",
    ">* multiple flags: re.S|re.X"
   ]
  },
  {
   "cell_type": "markdown",
   "metadata": {},
   "source": [
    "## groups"
   ]
  },
  {
   "cell_type": "code",
   "execution_count": 29,
   "metadata": {
    "collapsed": false
   },
   "outputs": [
    {
     "data": {
      "text/plain": [
       "('123', '4567')"
      ]
     },
     "execution_count": 29,
     "metadata": {},
     "output_type": "execute_result"
    }
   ],
   "source": [
    "phonenum = '123-4567'\n",
    "m = re.search(r'(?P<first3>[\\d]{3})-(?P<last4>[\\d]{4})',phonenum)\n",
    "m.group('first3'), m.group('last4')"
   ]
  },
  {
   "cell_type": "markdown",
   "metadata": {},
   "source": []
  }
 ],
 "metadata": {
  "kernelspec": {
   "display_name": "Python 2",
   "language": "python",
   "name": "python2"
  },
  "language_info": {
   "codemirror_mode": {
    "name": "ipython",
    "version": 2
   },
   "file_extension": ".py",
   "mimetype": "text/x-python",
   "name": "python",
   "nbconvert_exporter": "python",
   "pygments_lexer": "ipython2",
   "version": "2.7.11"
  }
 },
 "nbformat": 4,
 "nbformat_minor": 0
}
